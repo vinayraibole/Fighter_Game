{
 "cells": [
  {
   "cell_type": "code",
   "execution_count": 3,
   "id": "deea6e71",
   "metadata": {},
   "outputs": [
    {
     "name": "stdout",
     "output_type": "stream",
     "text": [
      "pygame 2.1.2 (SDL 2.0.18, Python 3.9.7)\n",
      "Hello from the pygame community. https://www.pygame.org/contribute.html\n"
     ]
    }
   ],
   "source": [
    "import random\n",
    "import time\n",
    "import pygame as pg, sys\n",
    "from pygame.locals import *\n",
    "import os"
   ]
  },
  {
   "cell_type": "markdown",
   "id": "9a396a4c",
   "metadata": {},
   "source": [
    "# Defnining the Width & Height of the Game Window"
   ]
  },
  {
   "cell_type": "code",
   "execution_count": 4,
   "id": "f6a66554",
   "metadata": {},
   "outputs": [],
   "source": [
    "width = 1280\n",
    "height = 720"
   ]
  },
  {
   "cell_type": "markdown",
   "id": "343a48f1",
   "metadata": {},
   "source": [
    "# Initializing pygame and setting up the screen"
   ]
  },
  {
   "cell_type": "code",
   "execution_count": 5,
   "id": "6d24d404",
   "metadata": {},
   "outputs": [],
   "source": [
    "pg.init()\n",
    "screen = pg.display.set_mode((width,height))\n",
    "main_font = pg.font.SysFont('cambria',30)"
   ]
  },
  {
   "cell_type": "markdown",
   "id": "448d9f63",
   "metadata": {},
   "source": [
    "# Function to return font with given size"
   ]
  },
  {
   "cell_type": "code",
   "execution_count": 6,
   "id": "2b648c09",
   "metadata": {},
   "outputs": [],
   "source": [
    "def get_font(size):\n",
    "    return pg.font.SysFont('cambria', size)"
   ]
  },
  {
   "cell_type": "markdown",
   "id": "65083e40",
   "metadata": {},
   "source": [
    "# Defining Button class"
   ]
  },
  {
   "cell_type": "code",
   "execution_count": 7,
   "id": "76a89491",
   "metadata": {},
   "outputs": [],
   "source": [
    "class Button():\n",
    "    def __init__(self, image, pos, text_input, font, base_color, hovering_color):\n",
    "        self.image = image\n",
    "        self.x_pos = pos[0]\n",
    "        self.y_pos = pos[1]\n",
    "        self.font = font\n",
    "        self.base_color, self.hovering_color = base_color, hovering_color\n",
    "        self.text_input = text_input\n",
    "        self.text = self.font.render(self.text_input, True, self.base_color)\n",
    "        if self.image is None:\n",
    "            self.image = self.text\n",
    "        self.rect = self.image.get_rect(center=(self.x_pos, self.y_pos))\n",
    "        self.text_rect = self.text.get_rect(center=(self.x_pos, self.y_pos))\n",
    "\n",
    "    def update(self, screen):\n",
    "        if self.image is not None:\n",
    "            screen.blit(self.image, self.rect)\n",
    "        screen.blit(self.text, self.text_rect)\n",
    "\n",
    "    def checkForInput(self, position):\n",
    "        if position[0] in range(self.rect.left, self.rect.right) and position[1] in range(self.rect.top, self.rect.bottom):\n",
    "            return True\n",
    "        return False\n",
    "\n",
    "    def changeColor(self, position):\n",
    "        if position[0] in range(self.rect.left, self.rect.right) and position[1] in range(self.rect.top, self.rect.bottom):\n",
    "            self.text = self.font.render(self.text_input, True, self.hovering_color)\n",
    "        else:\n",
    "            self.text = self.font.render(self.text_input, True, self.base_color)"
   ]
  },
  {
   "cell_type": "markdown",
   "id": "087d6f2c",
   "metadata": {},
   "source": [
    "# Defining the main menu"
   ]
  },
  {
   "cell_type": "code",
   "execution_count": 8,
   "id": "d9fc7915",
   "metadata": {},
   "outputs": [],
   "source": [
    "def main_menu():\n",
    "    \n",
    "    pg.display.set_caption('UFC - Menu')\n",
    "    \n",
    "    btn = pg.image.load(\"./Assets/Button.png\")\n",
    "    btn = pg.transform.scale(btn,(width*20/100,height*10/100))\n",
    "\n",
    "    background = pg.image.load(\"./Assets/Background.jpeg\")\n",
    "    background = pg.transform.scale(background,(width,height))\n",
    "    \n",
    "    minilogo = pg.image.load(\"./Assets/MiniLogo.png\")\n",
    "    minilogo = pg.transform.scale(minilogo,(width*10/100,height*10/100))\n",
    "    \n",
    "    while True:\n",
    "        screen.blit(background,(0,0))\n",
    "        \n",
    "        menu_mouse_pos = pg.mouse.get_pos()\n",
    "        \n",
    "        menu_logo = screen.blit(minilogo,minilogo.get_rect(center = (width/2,height*10/100)))\n",
    "        \n",
    "        menu_text = get_font(100).render('BEGIN FIGHTS!!',True,'#8b0000')\n",
    "        menu_rect = menu_text.get_rect(center = (width/2,height*25/100))\n",
    "        \n",
    "        play_button = Button(btn,(width/2,height*40/100),\n",
    "                             'PLAY',get_font(30),'red','white')\n",
    "        quit_button = Button(btn,(width/2,height*50/100),\n",
    "                             'QUIT',get_font(30),'red','white')\n",
    "        \n",
    "        screen.blit(menu_text, menu_rect)\n",
    "        \n",
    "        for button in [play_button, quit_button]:\n",
    "            button.changeColor(menu_mouse_pos)\n",
    "            button.update(screen)\n",
    "            \n",
    "        for ev in pg.event.get():\n",
    "            if ev.type == pg.QUIT:\n",
    "                running = False\n",
    "                pg.quit()\n",
    "                exit()\n",
    "            if ev.type == pg.MOUSEBUTTONDOWN:\n",
    "                if play_button.checkForInput(menu_mouse_pos):\n",
    "                    new_game()\n",
    "                if quit_button.checkForInput(menu_mouse_pos):\n",
    "                    running = False\n",
    "                    pg.quit()\n",
    "                    exit()\n",
    "        try:\n",
    "            pg.display.update()\n",
    "        except:\n",
    "            break\n",
    "        "
   ]
  },
  {
   "cell_type": "markdown",
   "id": "883577a0",
   "metadata": {},
   "source": [
    "# Defining the game"
   ]
  },
  {
   "cell_type": "code",
   "execution_count": 9,
   "id": "e030d739",
   "metadata": {},
   "outputs": [],
   "source": [
    "def new_game():\n",
    "    \n",
    "    pg.init()\n",
    "    screen = pg.display.set_mode((width, height))\n",
    "    pg.display.set_caption('ULTIMATE FIGHTING CHAMPIONSHIP')\n",
    "    \n",
    "    opening = pg.image.load(\"./Assets/Homepage.jpeg\")\n",
    "    opening = pg.transform.scale(opening,(width,height))\n",
    "    background = pg.image.load(\"./Assets/Background.jpeg\")\n",
    "    background = pg.transform.scale(background,(width,height))\n",
    "    minilogo = pg.image.load(\"./Assets/MiniLogo.png\")\n",
    "    minilogo = pg.transform.scale(minilogo,(width*10/100,height*10/100))\n",
    "\n",
    "    screen.blit(opening,(0,0))\n",
    "    pg.display.update()\n",
    "    time.sleep(3)\n",
    "    \n",
    "    screen.blit(background,(0,0))\n",
    "    pg.display.update()\n",
    "    time.sleep(2)\n",
    "    \n",
    "    screen.blit(minilogo,minilogo.get_rect(center = (width/2,height*10/100/2)))\n",
    "    pg.display.update()\n",
    "    \n",
    "    p1_fighter = [i for i in os.listdir(\"./Assets/P1 Fighter/\") if i != '.DS_Store']\n",
    "    p2_fighter = [i for i in os.listdir(\"./Assets/P2 Fighter/\") if i != '.DS_Store']\n",
    "    p3_fighter = [i for i in os.listdir(\"./Assets/P3 Fighter/\") if i != '.DS_Store']\n",
    "\n",
    "    today_fighter = [random.choice(p1_fighter),random.choice(p2_fighter),random.choice(p3_fighter)]\n",
    "\n",
    "    font = pg.font.Font(None,60)\n",
    "    text = font.render(\"Get Ready for Today's Champions!!!\",1,('#8b0000'))\n",
    "    text_rect = text.get_rect(center = (width/2, height*20/100))\n",
    "    screen.blit(text, text_rect)\n",
    "    pg.display.update()\n",
    "    time.sleep(2)\n",
    "    \n",
    "\n",
    "    font = pg.font.Font(None,40)\n",
    "    text = font.render(\"P1'S FIGHTER\",1,('#880808'))\n",
    "    screen.blit(text, (width - 3 * width/3 + width*8/100,height*75/100))\n",
    "    pg.display.update()\n",
    "    time.sleep(2)\n",
    "    \n",
    "    text = font.render(today_fighter[0].split('.')[0],1,('#880808'))\n",
    "    screen.blit(text, (width - 3 * width/3 + width*8/100,height*82/100))\n",
    "    fighter = pg.image.load(\"./Assets/P1 Fighter/\"+today_fighter[0])\n",
    "    fighter = pg.transform.scale(fighter,(width*25/100,height*40/100))\n",
    "    screen.blit(fighter, (width - 3 * width/3 + width*5/100,height*30/100))\n",
    "    pg.display.update()\n",
    "    time.sleep(2)\n",
    "    \n",
    "    text = font.render(\"P2'S FIGHTER\",1,('#880808'))\n",
    "    screen.blit(text, (width - 2 * width/3 + width*8/100,height*75/100))\n",
    "    pg.display.update()\n",
    "    time.sleep(2)\n",
    "    \n",
    "    text = font.render(today_fighter[1].split('.')[0],1,('#880808'))\n",
    "    screen.blit(text, (width - 2 * width/3 + width*8/100,height*82/100))\n",
    "    fighter = pg.image.load(\"./Assets/P2 Fighter/\"+today_fighter[1])\n",
    "    fighter = pg.transform.scale(fighter,(width*25/100,height*40/100))\n",
    "    screen.blit(fighter, (width - 2 * width/3 + width*5/100,height*30/100))\n",
    "    pg.display.update()\n",
    "    time.sleep(2)\n",
    "    \n",
    "    text = font.render(\"P3'S FIGHTER\",1,('#880808'))\n",
    "    screen.blit(text, (width - 1 * width/3 + width*8/100,height*75/100))\n",
    "    pg.display.update()\n",
    "    time.sleep(2)\n",
    "    \n",
    "    text = font.render(today_fighter[2].split('.')[0],1,('#880808'))\n",
    "    screen.blit(text, (width - 1 * width/3 + width*8/100,height*82/100))\n",
    "    fighter = pg.image.load(\"./Assets/P3 Fighter/\"+today_fighter[2])\n",
    "    fighter = pg.transform.scale(fighter,(width*25/100,height*40/100))\n",
    "    screen.blit(fighter, (width - 1 * width/3 + width*5/100,height*30/100))\n",
    "    pg.display.update()\n",
    "    time.sleep(2)\n",
    "\n",
    "    screen.blit(background,(0,0))\n",
    "    pg.display.update()\n",
    "    \n",
    "    font = pg.font.Font(None,60)\n",
    "    text = font.render(\"LET'S FIGHT\",1,('#8b0000'))\n",
    "    text_rect = text.get_rect(center = (width/2, height*10/100))\n",
    "    screen.blit(text, text_rect)\n",
    "    pg.display.update()\n",
    "    time.sleep(2)\n",
    "    \n",
    "    text = font.render(\"THE FIGHT BEGINS\",1,('#8b0000'))\n",
    "    text_rect = text.get_rect(center = (width/2, height*20/100))\n",
    "    screen.blit(text, text_rect)\n",
    "    pg.display.update()\n",
    "    time.sleep(2)\n",
    "    \n",
    "    text = font.render(\"AND THE WINNER IS!!!\",1,('#8b0000'))\n",
    "    text_rect = text.get_rect(center = (width/2, height*30/100))\n",
    "    screen.blit(text, text_rect)\n",
    "    pg.display.update()\n",
    "    time.sleep(2)\n",
    "    \n",
    "    choice = random.choice([0,1,2])\n",
    "    if choice == 0:\n",
    "        fighter = pg.image.load(\"./Assets/P1 Fighter/\"+today_fighter[choice])\n",
    "    elif choice == 1:\n",
    "        fighter = pg.image.load(\"./Assets/P2 Fighter/\"+today_fighter[choice])\n",
    "    elif choice == 2:\n",
    "        fighter = pg.image.load(\"./Assets/P3 Fighter/\"+today_fighter[choice])\n",
    "\n",
    "    fighter = pg.transform.scale(fighter,(width*25/100,height*40/100))\n",
    "    \n",
    "    screen.blit(fighter, (width*38/100, height*40/100))\n",
    "    \n",
    "    text = font.render(today_fighter[choice].split('.')[0],1,('#880808'))\n",
    "    screen.blit(text, (width*39/100, height*85/100))\n",
    "    pg.display.update()\n",
    "\n",
    "    time.sleep(10)"
   ]
  },
  {
   "cell_type": "code",
   "execution_count": 10,
   "id": "8554ade4",
   "metadata": {},
   "outputs": [],
   "source": [
    "main_menu()"
   ]
  },
  {
   "cell_type": "code",
   "execution_count": null,
   "id": "05a7cd9d",
   "metadata": {},
   "outputs": [],
   "source": []
  }
 ],
 "metadata": {
  "kernelspec": {
   "display_name": "Python 3 (ipykernel)",
   "language": "python",
   "name": "python3"
  },
  "language_info": {
   "codemirror_mode": {
    "name": "ipython",
    "version": 3
   },
   "file_extension": ".py",
   "mimetype": "text/x-python",
   "name": "python",
   "nbconvert_exporter": "python",
   "pygments_lexer": "ipython3",
   "version": "3.9.7"
  }
 },
 "nbformat": 4,
 "nbformat_minor": 5
}
